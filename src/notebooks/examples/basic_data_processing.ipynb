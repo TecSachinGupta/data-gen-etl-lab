{
 "cells": [
  {
   "cell_type": "markdown",
   "metadata": {},
   "source": [
    "# Basic Data Processing with PySpark\n",
    "\n",
    "This notebook demonstrates basic data processing operations using PySpark."
   ]
  },
  {
   "cell_type": "code",
   "execution_count": null,
   "metadata": {},
   "outputs": [],
   "source": [
    "# Import required libraries\n",
    "import sys\n",
    "sys.path.append('../..')\n",
    "\n",
    "from utilities.spark_utils.session import create_spark_session\n",
    "from utilities.io.readers import DataReader\n",
    "from utilities.transformations.data_cleaning import remove_duplicates, handle_null_values\n",
    "from pyspark.sql.functions import col, when, count"
   ]
  },
  {
   "cell_type": "code",
   "execution_count": null,
   "metadata": {},
   "outputs": [],
   "source": [
    "# Create Spark session\n",
    "spark = create_spark_session(app_name=\"Data Processing Example\")\n",
    "reader = DataReader(spark)"
   ]
  },
  {
   "cell_type": "code",
   "execution_count": null,
   "metadata": {},
   "outputs": [],
   "source": [
    "# Create sample data\n",
    "data = [\n",
    "    (1, \"John Doe\", \"john@email.com\", \"active\"),\n",
    "    (2, \"Jane Smith\", \"jane@email.com\", \"inactive\"),\n",
    "    (3, None, \"bob@email.com\", \"active\"),\n",
    "    (1, \"John Doe\", \"john@email.com\", \"active\"),  # duplicate\n",
    "    (4, \"Alice Brown\", None, \"active\")\n",
    "]\n",
    "\n",
    "columns = [\"id\", \"name\", \"email\", \"status\"]\n",
    "df = spark.createDataFrame(data, columns)\n",
    "\n",
    "print(f\"Original data: {df.count()} rows\")\n",
    "df.show()"
   ]
  },
  {
   "cell_type": "code",
   "execution_count": null,
   "metadata": {},
   "outputs": [],
   "source": [
    "# Remove duplicates\n",
    "df_dedup = remove_duplicates(df)\n",
    "print(f\"After removing duplicates: {df_dedup.count()} rows\")\n",
    "df_dedup.show()"
   ]
  },
  {
   "cell_type": "code",
   "execution_count": null,
   "metadata": {},
   "outputs": [],
   "source": [
    "# Handle null values\n",
    "df_cleaned = handle_null_values(df_dedup, strategy=\"fill\", fill_value=\"UNKNOWN\")\n",
    "print(\"After handling nulls:\")\n",
    "df_cleaned.show()"
   ]
  },
  {
   "cell_type": "code",
   "execution_count": null,
   "metadata": {},
   "outputs": [],
   "source": [
    "# Basic analytics\n",
    "status_counts = df_cleaned.groupBy(\"status\").count()\n",
    "print(\"Status distribution:\")\n",
    "status_counts.show()"
   ]
  },
  {
   "cell_type": "code",
   "execution_count": null,
   "metadata": {},
   "outputs": [],
   "source": [
    "# Clean up\n",
    "spark.stop()"
   ]
  }
 ],
 "metadata": {
  "kernelspec": {
   "display_name": "Python 3",
   "language": "python",
   "name": "python3"
  },
  "language_info": {
   "codemirror_mode": {
    "name": "ipython",
    "version": 3
   },
   "file_extension": ".py",
   "name": "python",
   "nbconvert_exporter": "python",
   "pygments_lexer": "ipython3",
   "version": "3.8.0"
  }
 },
 "nbformat": 4,
 "nbformat_minor": 4
}